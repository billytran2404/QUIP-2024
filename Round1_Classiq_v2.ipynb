{
  "cells": [
    {
      "cell_type": "code",
      "source": [
        "## to run the notebook on Colab\n",
        "try:\n",
        "    import classiq\n",
        "except ImportError:\n",
        "    print(\"installing classiq...\")\n",
        "    !pip install --quiet classiq\n",
        "    #!pip install classiq\n",
        "    import classiq\n",
        "\n",
        "    print(\"installed classiq.\")"
      ],
      "metadata": {
        "id": "J6Qkl2dvGPHl",
        "colab": {
          "base_uri": "https://localhost:8080/"
        },
        "outputId": "e86e7e80-6fd1-431e-d7d9-0fc8cff27214"
      },
      "execution_count": null,
      "outputs": [
        {
          "output_type": "stream",
          "name": "stdout",
          "text": [
            "installing classiq...\n",
            "\u001b[2K     \u001b[90m━━━━━━━━━━━━━━━━━━━━━━━━━━━━━━━━━━━━━━━━\u001b[0m \u001b[32m77.1/77.1 kB\u001b[0m \u001b[31m1.2 MB/s\u001b[0m eta \u001b[36m0:00:00\u001b[0m\n",
            "\u001b[2K     \u001b[90m━━━━━━━━━━━━━━━━━━━━━━━━━━━━━━━━━━━━━━━━\u001b[0m \u001b[32m151.6/151.6 kB\u001b[0m \u001b[31m2.7 MB/s\u001b[0m eta \u001b[36m0:00:00\u001b[0m\n",
            "\u001b[2K   \u001b[90m━━━━━━━━━━━━━━━━━━━━━━━━━━━━━━━━━━━━━━━━\u001b[0m \u001b[32m387.9/387.9 kB\u001b[0m \u001b[31m6.8 MB/s\u001b[0m eta \u001b[36m0:00:00\u001b[0m\n",
            "\u001b[2K   \u001b[90m━━━━━━━━━━━━━━━━━━━━━━━━━━━━━━━━━━━━━━━━\u001b[0m \u001b[32m1.8/1.8 MB\u001b[0m \u001b[31m22.9 MB/s\u001b[0m eta \u001b[36m0:00:00\u001b[0m\n",
            "\u001b[2K   \u001b[90m━━━━━━━━━━━━━━━━━━━━━━━━━━━━━━━━━━━━━━━━\u001b[0m \u001b[32m75.6/75.6 kB\u001b[0m \u001b[31m5.3 MB/s\u001b[0m eta \u001b[36m0:00:00\u001b[0m\n",
            "\u001b[2K   \u001b[90m━━━━━━━━━━━━━━━━━━━━━━━━━━━━━━━━━━━━━━━━\u001b[0m \u001b[32m77.9/77.9 kB\u001b[0m \u001b[31m4.2 MB/s\u001b[0m eta \u001b[36m0:00:00\u001b[0m\n",
            "\u001b[2K   \u001b[90m━━━━━━━━━━━━━━━━━━━━━━━━━━━━━━━━━━━━━━━━\u001b[0m \u001b[32m2.0/2.0 MB\u001b[0m \u001b[31m36.1 MB/s\u001b[0m eta \u001b[36m0:00:00\u001b[0m\n",
            "\u001b[2K   \u001b[90m━━━━━━━━━━━━━━━━━━━━━━━━━━━━━━━━━━━━━━━━\u001b[0m \u001b[32m42.6/42.6 kB\u001b[0m \u001b[31m2.6 MB/s\u001b[0m eta \u001b[36m0:00:00\u001b[0m\n",
            "\u001b[2K   \u001b[90m━━━━━━━━━━━━━━━━━━━━━━━━━━━━━━━━━━━━━━━━\u001b[0m \u001b[32m3.1/3.1 MB\u001b[0m \u001b[31m51.3 MB/s\u001b[0m eta \u001b[36m0:00:00\u001b[0m\n",
            "\u001b[2K   \u001b[90m━━━━━━━━━━━━━━━━━━━━━━━━━━━━━━━━━━━━━━━━\u001b[0m \u001b[32m10.7/10.7 MB\u001b[0m \u001b[31m43.1 MB/s\u001b[0m eta \u001b[36m0:00:00\u001b[0m\n",
            "\u001b[2K   \u001b[90m━━━━━━━━━━━━━━━━━━━━━━━━━━━━━━━━━━━━━━━━\u001b[0m \u001b[32m6.4/6.4 MB\u001b[0m \u001b[31m58.8 MB/s\u001b[0m eta \u001b[36m0:00:00\u001b[0m\n",
            "\u001b[2K   \u001b[90m━━━━━━━━━━━━━━━━━━━━━━━━━━━━━━━━━━━━━━━━\u001b[0m \u001b[32m49.6/49.6 kB\u001b[0m \u001b[31m2.8 MB/s\u001b[0m eta \u001b[36m0:00:00\u001b[0m\n",
            "\u001b[2K   \u001b[90m━━━━━━━━━━━━━━━━━━━━━━━━━━━━━━━━━━━━━━━━\u001b[0m \u001b[32m58.3/58.3 kB\u001b[0m \u001b[31m3.4 MB/s\u001b[0m eta \u001b[36m0:00:00\u001b[0m\n",
            "\u001b[?25h\u001b[31mERROR: pip's dependency resolver does not currently take into account all the packages that are installed. This behaviour is the source of the following dependency conflicts.\n",
            "torch 2.3.1+cu121 requires nvidia-cublas-cu12==12.1.3.1; platform_system == \"Linux\" and platform_machine == \"x86_64\", which is not installed.\n",
            "torch 2.3.1+cu121 requires nvidia-cuda-cupti-cu12==12.1.105; platform_system == \"Linux\" and platform_machine == \"x86_64\", which is not installed.\n",
            "torch 2.3.1+cu121 requires nvidia-cuda-nvrtc-cu12==12.1.105; platform_system == \"Linux\" and platform_machine == \"x86_64\", which is not installed.\n",
            "torch 2.3.1+cu121 requires nvidia-cuda-runtime-cu12==12.1.105; platform_system == \"Linux\" and platform_machine == \"x86_64\", which is not installed.\n",
            "torch 2.3.1+cu121 requires nvidia-cudnn-cu12==8.9.2.26; platform_system == \"Linux\" and platform_machine == \"x86_64\", which is not installed.\n",
            "torch 2.3.1+cu121 requires nvidia-cufft-cu12==11.0.2.54; platform_system == \"Linux\" and platform_machine == \"x86_64\", which is not installed.\n",
            "torch 2.3.1+cu121 requires nvidia-curand-cu12==10.3.2.106; platform_system == \"Linux\" and platform_machine == \"x86_64\", which is not installed.\n",
            "torch 2.3.1+cu121 requires nvidia-cusolver-cu12==11.4.5.107; platform_system == \"Linux\" and platform_machine == \"x86_64\", which is not installed.\n",
            "torch 2.3.1+cu121 requires nvidia-cusparse-cu12==12.1.0.106; platform_system == \"Linux\" and platform_machine == \"x86_64\", which is not installed.\n",
            "torch 2.3.1+cu121 requires nvidia-nccl-cu12==2.20.5; platform_system == \"Linux\" and platform_machine == \"x86_64\", which is not installed.\n",
            "torch 2.3.1+cu121 requires nvidia-nvtx-cu12==12.1.105; platform_system == \"Linux\" and platform_machine == \"x86_64\", which is not installed.\u001b[0m\u001b[31m\n",
            "\u001b[0minstalled classiq.\n"
          ]
        }
      ]
    },
    {
      "cell_type": "markdown",
      "metadata": {
        "id": "Ng2cPwAsAT0C"
      },
      "source": [
        "The goal of the first round is to generate a superposition over two colliding inputs to a Trapdoor Claw-Free Function (TCF). Verifier choose an instance $f_i$ of the TCFs and the trapdoor t. The $f_i$ is then sent to prover.\n",
        "\n",
        "As TCF we use $x^2$ mod N with $i$ is N and t contains factorization p and q. The prover now initializes two register qubits. The entangle superposition $ |\\psi \\rangle =\\sum _{x}\\left| x\\rangle _{x}\\right| y_{i}\\left( x\\right) \\rangle _{y}.$ The prover then measures the y register in the standard basis, collapsing the state to $\\left( | x_{0}\\rangle +| x_{1}\\rangle \\right) _{k}| y\\rangle _{y}$ with $ y=f\\left( x_{0}\\right) =f\\left( x_{1}\\right)$, The measured bitstring y is then sent to the verifier to use trapdoor for computing $x_0$ and $x_1$.\n",
        "The trapdoor for the"
      ]
    },
    {
      "cell_type": "code",
      "execution_count": null,
      "metadata": {
        "id": "Ce6CNHdbAT0H"
      },
      "outputs": [],
      "source": [
        "from typing import no_type_check\n",
        "from classiq import *\n",
        "import numpy as np\n",
        "import random\n",
        "\n",
        "# Define parameters\n",
        "N = 16 # Example modulus - Classiq only allows modulo power of 2\n",
        "n = 3  # Number of qubits in x register; note that since x\n",
        "       # should be <= N/2, then n should be <= of log_2 (N)\n",
        "\n",
        "#To implement this function I followed the paragraph \"TCF from Rabin's function x^2 mod N\" of Methods section of the paper.\n",
        "def gen_1n(n): # n is the number of bits of each primer (n = lamda/2, of the paper)\n",
        "\n",
        "    # random choice of the primers p and q, factors of N\n",
        "    # p and q have to be ≡ 3 mod 4, i.e. = 4k + 3, for some non negative integer k\n",
        "    # so we can choose 2 random values for k and apply the latter formula\n",
        "    k1 = random.randrange(2**(n-2)) # k in {0,1,...,2^(n-2)-1} in order to have primes 3 mod 4 with n bits\n",
        "    k2 = random.randrange(2**(n-2))\n",
        "    while k2 == k1:\n",
        "      k2 = random.randrange(2**(n-2))\n",
        "    p = 4*k1 + 3\n",
        "    q = 4*k2 + 3\n",
        "\n",
        "    t = {\"p\": p,\"q\":q}   # the trapdoor is the pair of primers p and q\n",
        "\n",
        "    N = p *q\n",
        "\n",
        "    return N, t  # return N, because N represents the function f_i\n",
        "\n",
        "#def compute_x0_x1(t, y):   ### COMMENTED BECOUSE IS DEFINED BELOW\n",
        "#    y_int = int(y, 2)\n",
        "#    x0 = (y_int + t) % (2 ** len(y))\n",
        "#    x1 = (y_int - t) % (2 ** len(y))\n",
        "#    return x0, x1\n",
        "\n",
        "# N, t = gen_1n(n)   # Uncomment this when we will use the actual code for phase\n",
        "                     # circuits; this overwrites the value of N set initially\n",
        "#print(t[\"p\"] * t[\"q\"])"
      ]
    },
    {
      "cell_type": "markdown",
      "source": [
        "## Compute x0 x1"
      ],
      "metadata": {
        "id": "d3OvHag0oar6"
      }
    },
    {
      "cell_type": "code",
      "source": [
        "# Define the function to compute y = x^2 mod N\n",
        "def classical_x2_modN(x, N):\n",
        "    return x**2 % N\n",
        "\n",
        "# Parameters\n",
        "p = 17   #  prime 1\n",
        "q = 3   #  prime 2\n",
        "N = p * q  # Compute N from p and q\n",
        "print(f\"N = {N}\")\n",
        "\n",
        "# Dictionary to store y values with corresponding x values\n",
        "y_dict = {}\n",
        "\n",
        "# Compute y for all x values in the range [0, N/2)\n",
        "for x in range(N // 2):\n",
        "    y = classical_x2_modN(x, N)\n",
        "    y_dict.setdefault(y, []).append(x)\n",
        "\n",
        "\n",
        "print(\"y values with corresponding pairs (x0, x1)\")\n",
        "print(y_dict)\n",
        "\n",
        "# Function to find x0 and x1 for a specific y value\n",
        "def find_x0_x1_for_y(y_value, y_dict):\n",
        "    if y_value in y_dict:\n",
        "        return y_dict[y_value]\n",
        "    else:\n",
        "        return None\n",
        "\n",
        "# Manually input the specific y value to find the pairs (x0, x1)\n",
        "input_y_value = int(input(\"Enter the specific y value to find the pairs (x0, x1): \"))\n",
        "\n",
        "result = find_x0_x1_for_y(input_y_value, y_dict)\n",
        "if result:\n",
        "    if len(result) > 1:\n",
        "        x0, x1 = result\n",
        "        print(f\"For y = {input_y_value}, the pairs are x0 = {x0} and x1 = {x1}\")\n",
        "    else:\n",
        "        print(f\"For y = {input_y_value}, there is only one x: x = {result[0]}\")\n",
        "else:\n",
        "    print(f\"No pairs found for y = {input_y_value}\")\n"
      ],
      "metadata": {
        "id": "dfaz9_97hVU8",
        "colab": {
          "base_uri": "https://localhost:8080/"
        },
        "outputId": "bf1f7c12-197b-442c-8652-ae2a11b4579d"
      },
      "execution_count": null,
      "outputs": [
        {
          "output_type": "stream",
          "name": "stdout",
          "text": [
            "N = 51\n",
            "y values with corresponding pairs (x0, x1)\n",
            "{0: [0], 1: [1, 16], 4: [2, 19], 9: [3], 16: [4, 13], 25: [5, 22], 36: [6], 49: [7, 10], 13: [8], 30: [9], 19: [11, 23], 42: [12], 43: [14, 20], 21: [15], 34: [17], 18: [18], 33: [21], 15: [24]}\n",
            "Enter the specific y value to find the pairs (x0, x1): 25\n",
            "For y = 25, the pairs are x0 = 5 and x1 = 22\n"
          ]
        }
      ]
    },
    {
      "cell_type": "code",
      "source": [
        "y_int=int('1010',2)\n",
        "N=p*q\n",
        "print(\"original y=\",y_int,\", N=\",N)\n",
        "print(\"computed values of y, from the x0 and x\") # to checke the correctness of the function compute_x0_x1\n",
        "print(classical_x2_modN(x0,N))\n",
        "print(classical_x2_modN(x1,N))"
      ],
      "metadata": {
        "colab": {
          "base_uri": "https://localhost:8080/"
        },
        "id": "aSI3pyuHRLhW",
        "outputId": "9271f86c-f1fa-4bfd-b0b1-278ae1599092"
      },
      "execution_count": null,
      "outputs": [
        {
          "output_type": "stream",
          "name": "stdout",
          "text": [
            "original y= 10 , N= 143\n",
            "computed values of y, from the x0 and x\n",
            "1\n",
            "1\n"
          ]
        }
      ]
    },
    {
      "cell_type": "code",
      "source": [
        "@qfunc\n",
        "def main(x: Output[QNum], y: Output[QNum]):\n",
        "    # Initialize x register in superposition\n",
        "    allocate(n, x)\n",
        "    hadamard_transform(x) # creates a superposition\n",
        "    y |= x**2 % N\n",
        "\n",
        "# NOTE: Classiq supports modulo N (on quantum variables) only for N = 2^{m},\n",
        "#       with m integer (obviously, non signed integer (i.e. m >= 0)),\n",
        "#       i.e. only for N = 1, 2, 4, 8, 16, 32 and so on\n",
        "\n",
        "# Create the quantum model\n",
        "qmod = create_model(main)"
      ],
      "metadata": {
        "id": "T0q-48L7U8ZN"
      },
      "execution_count": null,
      "outputs": []
    },
    {
      "cell_type": "code",
      "source": [
        "# to run on Colab (the exception is excecuted only the first time you run in the current Colab session)\n",
        "try:\n",
        "    quantum_program = synthesize(qmod)\n",
        "#except ClassiqAPIError:     # this does't work, it does not recognize the name \"ClassiqAPIError\"\n",
        "except Exception:            # this captures every error...\n",
        "    classiq.authenticate(overwrite=True)\n",
        "    quantum_program = synthesize(qmod)"
      ],
      "metadata": {
        "id": "v8DnkNgeHl7f"
      },
      "execution_count": null,
      "outputs": []
    },
    {
      "cell_type": "code",
      "source": [
        "#show(quantum_program)"
      ],
      "metadata": {
        "id": "Pnb1f6eIHgtg"
      },
      "execution_count": null,
      "outputs": []
    },
    {
      "cell_type": "code",
      "source": [
        "# Execute the quantum program and Measure all registers\n",
        "result = execute(quantum_program).result()"
      ],
      "metadata": {
        "id": "MnsJh0OeZ6aE"
      },
      "execution_count": null,
      "outputs": []
    },
    {
      "cell_type": "code",
      "source": [
        "# select only y counts to simulate the measuring of y only\n",
        "decimal_y_counts = result[0].value.parsed_counts_of_outputs(\"y\")\n",
        "bitstring_y_counts =  result[0].value.counts_of_output(\"y\")\n",
        "print(\"Counts for 'y' in decimal representation:\")\n",
        "print(decimal_y_counts)\n",
        "print()\n",
        "print(\"Counts for 'y' in binary representation (bitstring):\")\n",
        "print(bitstring_y_counts)"
      ],
      "metadata": {
        "id": "EnHV379wSfa2"
      },
      "execution_count": null,
      "outputs": []
    },
    {
      "cell_type": "code",
      "source": [
        "# compute classically y for all x values of x register\n",
        "N=16\n",
        "n=3\n",
        "\n",
        "def classical_x2_modN(x,N):\n",
        "  return x**2 % N\n",
        "\n",
        "y_dict={}\n",
        "for x in range(2**n):\n",
        "  y=classical_x2_modN(x,N)\n",
        "  #print(\"x=\",x, \", y=\",y)\n",
        "  y_dict.setdefault(y, []).append(x)\n",
        "\n",
        "print(\"y values with the corresponding x values\")\n",
        "print(y_dict)"
      ],
      "metadata": {
        "colab": {
          "base_uri": "https://localhost:8080/"
        },
        "id": "ZwKQ7RtkXexm",
        "outputId": "1aea6e93-6a1a-4488-cb3a-50eafb79fd91"
      },
      "execution_count": null,
      "outputs": [
        {
          "output_type": "stream",
          "name": "stdout",
          "text": [
            "y values with the corresponding x values\n",
            "{0: [0, 4], 1: [1, 7], 4: [2, 6], 9: [3, 5]}\n"
          ]
        }
      ]
    },
    {
      "cell_type": "code",
      "source": [],
      "metadata": {
        "id": "Ybe7obYYE4Gl"
      },
      "execution_count": null,
      "outputs": []
    },
    {
      "cell_type": "code",
      "execution_count": null,
      "metadata": {
        "id": "Uigc-V_XAT0L"
      },
      "outputs": [],
      "source": [
        "# Step 4: Using trapdoor t, compute x0 and x1\n",
        "#x0, x1 = compute_x0_x1(t, y_bitstring)\n",
        "#print(f\"Using trapdoor {t}, computed x0: {x0} and x1: {x1}\")"
      ]
    },
    {
      "cell_type": "markdown",
      "source": [
        "#### CZpow function"
      ],
      "metadata": {
        "id": "wxDWGPTAu3s9"
      }
    },
    {
      "cell_type": "code",
      "source": [
        "## Original function in cirq\n",
        "##########################################################################\n",
        "# def CZpow(phase, *qubits):\n",
        "#     nqubits = len(qubits)\n",
        "\n",
        "#     # we put most common case first\n",
        "#     if nqubits == 3:\n",
        "#         base_gate = cirq.CCZPowGate(exponent=phase)\n",
        "#     elif nqubits == 2:\n",
        "#         base_gate = cirq.CZPowGate(exponent=phase)\n",
        "#     elif nqubits == 1:\n",
        "#         base_gate = cirq.ZPowGate(exponent=phase)\n",
        "#     else:\n",
        "#         raise ValueError('too many control qubits')\n",
        "\n",
        "#     return base_gate(*qubits)\n",
        "#########################################################################\n",
        "# There no gates in Classiq exactly equivalent to ZPowGate, CZPowGate, CCZPowGate of Cirq so we'll use\n",
        "# RZ for ZPowGate, that should be equivalent up to a global phase, and for the other 2 we will use the\n",
        "# Classiq \"control\" function on RZ\n",
        "\n",
        "# We have eliminated ZPowGate, because is never used in the code;\n",
        "# so there are 2 functions to implement: CZPowGate, CCZPowGate\n",
        "\n",
        "# since the implementation of CZPowGate, CCZPowGate are identical, and in Classiq we can use the implicit casting\n",
        "# from QBit to QArray (i.e. passing a QBit variable to a function where the argument is declared as QArray), we define\n",
        "# a unique function both for CZPowGate and CCZPowGate, we call this function MCZPhase (Multi-Controlled-ZPhase gate)\n",
        "from math import pi\n",
        "\n",
        "@qfunc\n",
        "def MCZPhase(phase: CReal, target: QBit, controls: QArray[QBit]):\n",
        "    theta = phase * pi\n",
        "    control(controls, lambda: RZ(theta , target))"
      ],
      "metadata": {
        "id": "1DbfB-RaE2gp"
      },
      "execution_count": null,
      "outputs": []
    },
    {
      "cell_type": "markdown",
      "source": [
        "#### phase_add function"
      ],
      "metadata": {
        "id": "II8Kjr1D26Ol"
      }
    },
    {
      "cell_type": "code",
      "source": [
        "## Original function in Cirq\n",
        "#def phase_add(in_phase, target, controls):\n",
        "#    for k, yk in enumerate(target):\n",
        "#        phase = 2**(len(target) - k - 1) * in_phase % 2\n",
        "#        yield CZpow(phase, yk, *controls)\n",
        "\n",
        "@qfunc\n",
        "def phase_add_iteration(k: CInt, target_len: CInt, in_phase: CReal, yk: QBit, controls: QNum) -> None:\n",
        "    phase = 2**(target_len - k - 1) * in_phase % 2\n",
        "    MCZPhase(phase, yk, controls)\n",
        "\n",
        "@qfunc\n",
        "def phase_add(in_phase: CReal, target: QArray[QBit], controls: QArray[QBit]) -> None:\n",
        "    target_len = target.len\n",
        "    repeat(count = target_len,\n",
        "           iteration = lambda k: phase_add_iteration(k,target_len,in_phase,target[k],controls))"
      ],
      "metadata": {
        "id": "V54vd_BD25tR"
      },
      "execution_count": null,
      "outputs": []
    },
    {
      "cell_type": "markdown",
      "source": [
        "count() function"
      ],
      "metadata": {
        "id": "1LGPNFrT-KmT"
      }
    },
    {
      "cell_type": "code",
      "source": [
        "## The original cirq function\n",
        "#######################################################\n",
        "# def count(x, counter, pairs, sign):\n",
        "#     for i,j in pairs:\n",
        "#         if i == j:\n",
        "#             controls = [x[i]]\n",
        "#             fctr = 1\n",
        "#         else:\n",
        "#             controls = [x[i], x[j]]\n",
        "#             fctr = 2\n",
        "\n",
        "#         phase = sign*fctr*(2**(1-len(counter)))\n",
        "#         yield phase_add(phase, counter, controls)\n",
        "######################################################\n",
        "# The converted function in Classiq\n",
        "def count(x: QArray[QBit], counter: QArray[QBit], pairs, sign) -> None:\n",
        "    # Initialize the controls register\n",
        "    controls = QArray(\"controls\")\n",
        "    # To add qubits to the controls register, we split the x array and extract two single qubit x[i], x[j]. Then, we use the bind function to add these two qubits to the controls register.\n",
        "    # Loop the array of index qubits pairs to add qubits to controls register. For example, the array shoud be [{1,2}, {1, 3}, {0,2}]\n",
        "    for i,j in pairs:\n",
        "        # Variales used to store qubits that split from the x array\n",
        "        _extract_xi = QBit(\"_extract_xi\")\n",
        "        _last_i = QNum(\"_last_i\", x.len-1, False, 0)\n",
        "        _firtschunk_i = QNum(\"_firtschunk_i\", i, False, 0)\n",
        "        _lastchunk_i = QNum(\"_lastchunk_i\", x.len-i-1, False, 0)\n",
        "        _extract_xj = QBit(\"_extract_xj\")\n",
        "        _last_j = QNum(\"_last_j\", x.len-1, False, 0)\n",
        "        _firtschunk_j = QNum(\"_firtschunk_j\", j, False, 0)\n",
        "        _lastchunk_j = QNum(\"_lastchunk_j\", x.len-j-1, False, 0)\n",
        "        # We use if_ command of Classiq to implement the algorithm because I have gotten \"not convert to bool\" error when we use Python's if\n",
        "        if_(condition = i == 0, then=lambda: bind(x, [_extract_xi,_last_i]))\n",
        "        if_(condition = i == x.len-1, then= lambda: bind(x,[_last_i,_extract_xi]))\n",
        "        if_(condition = (i > 0 & i < x.len - 1), then=lambda: bind(x, [_firtschunk_i,_extract_xi,_lastchunk_i]))\n",
        "        if_(condition = j == 0, then=lambda: bind(x, [_extract_xj,_last_j]))\n",
        "        if_(condition = i == x.len-1, then= lambda: bind(x,[_last_j,_extract_xj]))\n",
        "        if_(condition = (i > 0 & i < x.len - 1), then=lambda: bind(x, [_firtschunk_j,_extract_xj,_lastchunk_j]))\n",
        "        if i == j:\n",
        "            # If two indexes are similar, add 1 control qubit to the controls\n",
        "            bind(_extract_xi, controls)\n",
        "            fctr = 1\n",
        "        else:\n",
        "            # If two indexes are different, add 2 qubits to the controls\n",
        "            bind([_extract_xi, _extract_xj], controls)\n",
        "            # It is okay for two normal qubits a and b but it thwows out an error for x[i], x[j]\n",
        "            # bind([x[i], x[j]], controls)\n",
        "            fctr = 2\n",
        "        # Calculate phase for the phase_add function\n",
        "        phase = sign*fctr*(2**(1-counter.len))\n",
        "        # Call the phase_add function\n",
        "        phase_add(phase, counter, controls)\n"
      ],
      "metadata": {
        "id": "mJqEM1Lw-Afb"
      },
      "execution_count": null,
      "outputs": []
    },
    {
      "cell_type": "code",
      "source": [
        "##### FOR TESTING THE count FUNCTION ###################  FILIPPO\n",
        "import math\n",
        "@qfunc\n",
        "def main(x: Output[QArray[QBit]], counter: Output[QArray[QBit]]):\n",
        "\n",
        "    N = 8\n",
        "    domain_max = (N+1)//2 - 1\n",
        "    n_x = domain_max.bit_length()\n",
        "    allocate(n_x,x)\n",
        "\n",
        "    n_counter = int(math.log(n_x) + 1)\n",
        "    allocate(n_counter, counter)\n",
        "\n",
        "    pairs = [(1,1),(1,3)]\n",
        "    count(x, counter, pairs, sign=+1)\n",
        "\n",
        "qmod = create_model(main)"
      ],
      "metadata": {
        "id": "HJTMYxrovdRh"
      },
      "execution_count": null,
      "outputs": []
    },
    {
      "cell_type": "code",
      "source": [
        "#Nahid: QFT and IQFT to be used in x2modN_fast\n",
        "\n",
        "# Define the Quantum Fourier Transform (QFT) function\n",
        "@qfunc\n",
        "def qft_ckt(psi: QArray):\n",
        "    qft(psi)  # Directly apply QFT to the psi array\n",
        "\n",
        "# Define the Inverse Quantum Fourier Transform (IQFT) function using invert\n",
        "@qfunc\n",
        "def iqft_ckt(psi: QArray):\n",
        "    invert(lambda: qft(psi))  # Apply the inverse of QFT to the psi array"
      ],
      "metadata": {
        "id": "bhhNHLClGo4F"
      },
      "execution_count": null,
      "outputs": []
    },
    {
      "cell_type": "code",
      "source": [
        "###### 2nd CELL FOR TESTING THE count FUNCTION #################\n",
        "# to run on Colab (the exception is excecuted only the first time you run in the current Colab session)\n",
        "try:\n",
        "    qprog = synthesize(qmod)\n",
        "#except ClassiqAPIError:     # this does't work, it does not recognize the name \"ClassiqAPIError\"\n",
        "except Exception:            # this captures every error...\n",
        "    classiq.authenticate(overwrite=True)\n",
        "    qprog = synthesize(qmod)\n",
        "\n",
        "show(qprog)"
      ],
      "metadata": {
        "id": "yh2Qw4FEvvme"
      },
      "execution_count": null,
      "outputs": []
    },
    {
      "cell_type": "markdown",
      "source": [
        "#### x2modN_fast function"
      ],
      "metadata": {
        "id": "OP1dLzRzSu59"
      }
    },
    {
      "cell_type": "code",
      "source": [
        "import math\n",
        "def x2modN_fast(x: QArray[QBit], y: QArray[QBit],N: int) -> None:\n",
        "    counter = QArray(\"counter\")\n",
        "    n_counter = int(math.log(n_x) + 1)\n",
        "    allocate(n_counter, counter)\n",
        "    hadamard_transform(counter)\n",
        "\n",
        "    for l in range(2*n_x-1):\n",
        "        qubit_pairs = [(i, l-i) for i in range(max(0, l-n_x+1), l//2 + 1)]\n",
        "\n",
        "        #count(x, counter, qubit_pairs, sign=+1)\n",
        "        iqft_ckt(counter)\n",
        "\n",
        "        for k in range(n_counter):\n",
        "            phase = 2*2**(k+l) / N\n",
        "            phase_add(phase, y, counter[k])\n",
        "\n",
        "        qft(counter)\n",
        "        #count(x, counter, qubit_pairs, sign=-1)\n",
        "\n",
        "    hadamard_transform(counter)"
      ],
      "metadata": {
        "id": "X2g8TAVRStj3"
      },
      "execution_count": null,
      "outputs": []
    },
    {
      "cell_type": "code",
      "source": [
        "N = 8\n",
        "domain_max = (N+1)//2 - 1\n",
        "n_x = domain_max.bit_length()\n",
        "\n",
        "@qfunc\n",
        "def main(x: Output[QArray[QBit]], y: Output[QArray[QBit]]):\n",
        "    allocate(n_x,x)\n",
        "    allocate(N.bit_length(),y)   # in the orginal code: N.bit_length()+args.extra_bits\n",
        "\n",
        "    x2modN_fast(x, y, N)\n",
        "\n",
        "qmod = create_model(main)"
      ],
      "metadata": {
        "id": "-YUlh4rfQPs-"
      },
      "execution_count": null,
      "outputs": []
    },
    {
      "cell_type": "code",
      "source": [
        "# to run on Colab (the exception is excecuted only the first time you run in the current Colab session)\n",
        "try:\n",
        "    qprog = synthesize(qmod)\n",
        "#except ClassiqAPIError:     # this does't work, it does not recognize the name \"ClassiqAPIError\"\n",
        "except Exception:            # this captures every error...\n",
        "    classiq.authenticate(overwrite=True)\n",
        "    qprog = synthesize(qmod)\n",
        "\n",
        "show(qprog)"
      ],
      "metadata": {
        "id": "VKDUNr--M1cV",
        "colab": {
          "base_uri": "https://localhost:8080/"
        },
        "outputId": "76d8de08-c6fb-496f-a2f8-58c94365c967"
      },
      "execution_count": null,
      "outputs": [
        {
          "output_type": "stream",
          "name": "stdout",
          "text": [
            "Opening: https://platform.classiq.io/circuit/515a9c35-3bcb-4ef9-8793-41880e2fda05?version=0.43.3\n"
          ]
        }
      ]
    },
    {
      "cell_type": "markdown",
      "source": [
        "# **QFT**"
      ],
      "metadata": {
        "id": "RsczIFGgsOnO"
      }
    },
    {
      "cell_type": "code",
      "source": [
        "##Nahid: I write here##\n",
        "\n",
        "!pip install --upgrade pip\n",
        "!pip install 'classiq[all]'\n",
        "import classiq\n",
        "classiq.authenticate()"
      ],
      "metadata": {
        "id": "yK9aqtD5GRGg"
      },
      "execution_count": null,
      "outputs": []
    },
    {
      "cell_type": "code",
      "source": [
        "import matplotlib.pyplot as plt\n",
        "from classiq import *\n",
        "from classiq.execution import *\n",
        "from classiq import Output, allocate, qfunc, QBit, H, control, qft, QArray"
      ],
      "metadata": {
        "id": "oX84k4OdKtJ-"
      },
      "execution_count": null,
      "outputs": []
    },
    {
      "cell_type": "code",
      "source": [
        "# Define the number of qubits for the QFT\n",
        "NUM_QUBITS = 10  # Change this to the desired number of qubits\n",
        "\n",
        "# Define the Quantum Fourier Transform (QFT) function\n",
        "@qfunc\n",
        "def qft_ckt(psi: QArray):\n",
        "    qft(psi)  # Directly apply QFT to the psi array\n",
        "\n",
        "# Define the main quantum function\n",
        "@qfunc\n",
        "def main(expectation_value: Output[QBit]):\n",
        "    allocate(1, expectation_value)\n",
        "    psi = QArray(\"psi\")\n",
        "    allocate(NUM_QUBITS, psi)\n",
        "    within_apply(lambda: H(expectation_value), lambda: control(expectation_value, lambda: qft_ckt(psi)))\n",
        "\n",
        "# Function to calculate the expectation value\n",
        "def calculate_expectation_value(results):\n",
        "    try:\n",
        "        counts = results[0].value.counts\n",
        "        print(\"Counts List:\", counts)  # Debug print to check counts structure\n",
        "\n",
        "        # Assuming counts is a dictionary or a list of dictionaries\n",
        "        if isinstance(counts, list) and len(counts) > 0 and isinstance(counts[0], dict):\n",
        "            counts = counts[0]\n",
        "        elif isinstance(counts, dict):\n",
        "            counts = counts\n",
        "        else:\n",
        "            print(\"Unexpected counts format\")\n",
        "            return None  # Early exit if format is not as expected\n",
        "\n",
        "        print(\"Parsed Counts:\", counts)  # Debug print to check parsed counts\n",
        "        p0 = counts.get('0', 0) / sum(counts.values())\n",
        "        print(f\"P0: {p0}\")  # Debug print for P0\n",
        "        expectation_value = 2 * p0 - 1\n",
        "        return expectation_value\n",
        "    except Exception as e:\n",
        "        print(\"Error in calculating expectation value:\", e)\n",
        "        return None\n",
        "\n",
        "# Number of shots for the experiment\n",
        "shots = 1000\n",
        "average_expectation_values = []\n",
        "\n",
        "# Create the quantum model\n",
        "quantum_model = create_model(main)\n",
        "\n",
        "# Run the quantum program for the specified number of shots and calculate the expectation value\n",
        "print(f\"========== Running for {shots} shots ==========\")\n",
        "execution_preferences = ExecutionPreferences(num_shots=shots, job_name=f\"running with {shots} shots\", random_seed=200)\n",
        "quantum_model_with_execution_preferences = set_execution_preferences(quantum_model, execution_preferences)\n",
        "quantum_program_with_execution_preferences = synthesize(quantum_model_with_execution_preferences)\n",
        "\n",
        "# Show the quantum circuit\n",
        "circuit_diagram = show(quantum_program_with_execution_preferences)\n",
        "print(circuit_diagram)  # Print or render the circuit diagram if supported\n",
        "\n",
        "# Execute the quantum program\n",
        "job = execute(quantum_program_with_execution_preferences)\n",
        "results = job.result()\n",
        "print(\"Job results:\", results)  # Debug print to check job results\n",
        "\n",
        "expectation_value = calculate_expectation_value(results)\n",
        "if expectation_value is not None:\n",
        "    average_expectation_values.append(expectation_value)\n",
        "else:\n",
        "    average_expectation_values.append(float('nan'))\n",
        "\n",
        "print(\"Average Expectation Values:\", average_expectation_values)\n"
      ],
      "metadata": {
        "colab": {
          "base_uri": "https://localhost:8080/"
        },
        "id": "vd-lFQROpBE2",
        "outputId": "a0ce65bb-8623-4121-ef2e-dd9e44fb573f"
      },
      "execution_count": null,
      "outputs": [
        {
          "output_type": "stream",
          "name": "stdout",
          "text": [
            "========== Running for 1000 shots ==========\n",
            "Opening: https://platform.classiq.io/circuit/f8b8c24a-048a-4595-93bc-162e0ca3c9a3?version=0.43.3\n",
            "None\n",
            "Job results: [TaggedExecutionDetails(value_type=<SavedResultValueType.ExecutionDetails: 'ExecutionDetails'>, name='result', value=ExecutionDetails(vendor_format_result={}, counts={'1': 467, '0': 533}, counts_lsb_right=True, parsed_states={'1': {'expectation_value': 1.0}, '0': {'expectation_value': 0.0}}, histogram=None, output_qubits_map={'expectation_value': (0,)}, state_vector=None, parsed_state_vector_states=None, physical_qubits_map={'expectation_value': (0,)}, num_shots=1000))]\n",
            "Counts List: {'1': 467, '0': 533}\n",
            "Parsed Counts: {'1': 467, '0': 533}\n",
            "P0: 0.533\n",
            "Average Expectation Values: [0.06600000000000006]\n"
          ]
        }
      ]
    },
    {
      "cell_type": "markdown",
      "source": [
        "# **IQFT**"
      ],
      "metadata": {
        "id": "SJd8_eyVsYfZ"
      }
    },
    {
      "cell_type": "code",
      "source": [
        "from classiq import H, QArray, QBit, Output, qfunc, control, qft, invert, allocate\n",
        "\n",
        "# Define the number of qubits for the QFT and IQFT\n",
        "NUM_QUBITS = 10  # Change this to the desired number of qubits\n",
        "\n",
        "# Define the Quantum Fourier Transform (QFT) function\n",
        "@qfunc\n",
        "def qft_ckt(psi: QArray):\n",
        "    qft(psi)  # Directly apply QFT to the psi array\n",
        "\n",
        "# Define the Inverse Quantum Fourier Transform (IQFT) function using invert\n",
        "@qfunc\n",
        "def iqft_ckt(psi: QArray):\n",
        "    invert(lambda: qft(psi))  # Apply the inverse of QFT to the psi array"
      ],
      "metadata": {
        "id": "B3TICk4-sTVD"
      },
      "execution_count": null,
      "outputs": []
    },
    {
      "cell_type": "markdown",
      "source": [
        "# **x2_mod_N_phase**"
      ],
      "metadata": {
        "id": "Lvre9Qi1IY8y"
      }
    },
    {
      "cell_type": "code",
      "source": [
        "#The original code in Cirq is copied below. However, we remember that we only do the fast part and we skip narrow.\n",
        "#def x2_mod_N_phase(N, x, y, ancillas, circuit_type):\n",
        "#    '''\n",
        "#    Generate the full circuit\n",
        "#    '''\n",
        "#    for q in itertools.chain(x, y):\n",
        "#        yield cirq.H(q)\n",
        "#\n",
        "#    if circuit_type == 'fast':\n",
        "#        yield x2modN_fast(x, y, ancillas, N)\n",
        "#        yield iqft(y)\n",
        "#\n",
        "#    elif circuit_type == 'narrow':\n",
        "#        for k, yk in enumerate(y):\n",
        "#            yield x2modN_narrow_single(x, [yk], ancillas, N, len(y)-k-1)\n",
        "#            yield cirq.H(yk)\n",
        "#            for m, ym in list(enumerate(y))[k+1:]:\n",
        "#                phase = -(1/2**(m-k))\n",
        "#                yield CZpow(phase, ym, yk)\n",
        "#\n",
        "#    else:\n",
        "#        raise ValueError('unknown circuit type')\n",
        "#######################################################\n",
        "\n",
        "# We need to use x2modN_fast and iqft  defined in the previous cells\n",
        "\n",
        "#Filippo and Nahid\n",
        "\n",
        "def x2_mod_N_phase(x: QArray[QBit], y: QArray[QBit],N: int):\n",
        "    \"\"\"\n",
        "    Generate the full circuit for the \"fast\" circuit type.\n",
        "    \"\"\"\n",
        "    # Apply Hadamard gates to all qubits in x and y\n",
        "    hadamard_transform(x)  # Apply Hadamard transform\n",
        "    hadamard_transform(y)  # Apply Hadamard transform\n",
        "\n",
        "    # Generate the fast circuit\n",
        "    x2modN_fast(x, y, N)\n",
        "    iqft_ckt(y)"
      ],
      "metadata": {
        "id": "SqSXV22tJiq5"
      },
      "execution_count": null,
      "outputs": []
    },
    {
      "cell_type": "code",
      "source": [
        "#TEST OF THE FUNCTION x2_mod_N_phase\n",
        "\n",
        "from classiq import create_model, synthesize\n",
        "\n",
        "N = 15\n",
        "domain_max = (N+1)//2 - 1\n",
        "n_x = domain_max.bit_length()\n",
        "\n",
        "@qfunc\n",
        "def main(x: Output[QArray[QBit]], y: Output[QArray[QBit]]):\n",
        "\n",
        "    allocate(n_x,x)\n",
        "    allocate(N.bit_length(),y)   # in the orginal code: N.bit_length()+args.extra_bits\n",
        "    x2_mod_N_phase(x, y, N)\n",
        "\n",
        "# Create the model\n",
        "model = create_model(main)\n",
        "\n",
        "# Synthesize the model\n",
        "try:\n",
        "    qprog = synthesize(model)\n",
        "except Exception:            # this captures every error...\n",
        "    classiq.authenticate(overwrite=True)\n",
        "    qprog = synthesize(model)\n",
        "\n",
        "# show the quantum program\n",
        "show(qprog)"
      ],
      "metadata": {
        "id": "g_Yz055mhTrJ",
        "colab": {
          "base_uri": "https://localhost:8080/"
        },
        "outputId": "c1b0ffa1-d620-4064-a295-1c4da78bc8ea"
      },
      "execution_count": null,
      "outputs": [
        {
          "output_type": "stream",
          "name": "stdout",
          "text": [
            "Opening: https://platform.classiq.io/circuit/86502627-266d-42ef-b6c7-e2f0bc00557c?version=0.43.3\n"
          ]
        }
      ]
    },
    {
      "cell_type": "markdown",
      "source": [
        "## **End of Round 1**"
      ],
      "metadata": {
        "id": "jUBvpx1mi5BW"
      }
    },
    {
      "cell_type": "markdown",
      "source": [
        "# **Round 3**"
      ],
      "metadata": {
        "id": "iz2I4UEKijwi"
      }
    },
    {
      "cell_type": "markdown",
      "source": [
        "![image.png](data:image/png;base64,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)"
      ],
      "metadata": {
        "id": "ONYJ5JfViqxS"
      }
    },
    {
      "cell_type": "code",
      "source": [
        "#10b\n",
        "# Function to choose a random angle theta step 10 b\n",
        "def choose_random_theta():\n",
        "    return np.random.choice([np.pi / 4, -np.pi / 4])"
      ],
      "metadata": {
        "id": "MVWCfqwQi16c"
      },
      "execution_count": null,
      "outputs": []
    },
    {
      "cell_type": "code",
      "source": [
        "#11b Prover\n",
        "@qfunc\n",
        "def measure_ancilla_in_rotated_basis(ancilla: Qubit):\n",
        "    theta = choose_random_theta()\n",
        "    RY(2 * theta)(ancilla)  # Apply rotation to the single ancilla qubit"
      ],
      "metadata": {
        "id": "AgRgZR3gJ84Z"
      },
      "execution_count": null,
      "outputs": []
    },
    {
      "cell_type": "code",
      "source": [
        "#11b Classifier\n",
        "@qfunc\n",
        "def round3_process()\n"
      ],
      "metadata": {
        "colab": {
          "base_uri": "https://localhost:8080/",
          "height": 106
        },
        "id": "0cg9vn2_Wsm2",
        "outputId": "5cc89e42-590f-4f0b-b3b3-3bfcaa3ae1e8"
      },
      "execution_count": null,
      "outputs": [
        {
          "output_type": "error",
          "ename": "SyntaxError",
          "evalue": "expected ':' (<ipython-input-43-3058c26de086>, line 3)",
          "traceback": [
            "\u001b[0;36m  File \u001b[0;32m\"<ipython-input-43-3058c26de086>\"\u001b[0;36m, line \u001b[0;32m3\u001b[0m\n\u001b[0;31m    def round3_process()\u001b[0m\n\u001b[0m                        ^\u001b[0m\n\u001b[0;31mSyntaxError\u001b[0m\u001b[0;31m:\u001b[0m expected ':'\n"
          ]
        }
      ]
    },
    {
      "cell_type": "code",
      "source": [
        "def test_round3_process():\n",
        "    try:\n",
        "        # Create the model\n",
        "        model = create_model(round3_process)\n",
        "\n",
        "        # Synthesize the model\n",
        "        synthesis_result = synthesize(model)\n",
        "\n",
        "        print(\"Model created and synthesized successfully.\")\n",
        "        print(synthesis_result)\n",
        "\n",
        "    except Exception as e:\n",
        "        print(f\"An error occurred: {e}\")\n",
        "\n",
        "test_round3_process()"
      ],
      "metadata": {
        "colab": {
          "base_uri": "https://localhost:8080/"
        },
        "id": "7NqokVfhd8DV",
        "outputId": "7daac58f-1466-46d5-9068-23af7cb71a12"
      },
      "execution_count": null,
      "outputs": [
        {
          "output_type": "stream",
          "name": "stdout",
          "text": [
            "An error occurred: name 'round3_process' is not defined\n"
          ]
        }
      ]
    }
  ],
  "metadata": {
    "kernelspec": {
      "display_name": "Python 3.9.19 ('envp39')",
      "language": "python",
      "name": "python3"
    },
    "language_info": {
      "codemirror_mode": {
        "name": "ipython",
        "version": 3
      },
      "file_extension": ".py",
      "mimetype": "text/x-python",
      "name": "python",
      "nbconvert_exporter": "python",
      "pygments_lexer": "ipython3",
      "version": "3.9.19"
    },
    "orig_nbformat": 4,
    "vscode": {
      "interpreter": {
        "hash": "a3c6d38cf489b0a57c192584ace2d578da1a7c6d57f7065c2bf3c9a661dd0081"
      }
    },
    "colab": {
      "provenance": []
    }
  },
  "nbformat": 4,
  "nbformat_minor": 0
}