{
 "cells": [
  {
   "cell_type": "markdown",
   "id": "8bfe0a29-804c-4943-8783-3df16ddfe295",
   "metadata": {},
   "source": [
    "# Implementation of the steps of the round 2"
   ]
  },
  {
   "cell_type": "markdown",
   "id": "ac17a0b2-6de9-4bef-a24f-8d9496ecb53e",
   "metadata": {},
   "source": [
    "#### Let's write the steps 7b and 8b of the paper\n",
    "\n",
    "**Step 7b**\n",
    "* Add one ancilla $b$\n",
    "* Use CNOTS to compute\n",
    "$$\n",
    "|r \\cdot x_0 \\rangle_b |x_0\\rangle_x + |r \\cdot x_1 \\rangle_b | x_1\\rangle_x\n",
    "\\tag{1}\n",
    "$$\n",
    "where $r\\cdot x$ is bitwise inner product.\n",
    "\n",
    "**Step 8b**\n",
    "* Measure $x$ register in Hadamard basis yelding a string $d$.\n",
    "* Discard $x$, the state is now\n",
    "$$\n",
    "|\\psi \\rangle_b \\in \\{|0\\rangle, | 1\\rangle,|+\\rangle,|-\\rangle\\}\n",
    "\\tag{2}\n",
    "$$\n",
    "\n",
    "#### A couple of notes about the \"bitwise inner product\"\n",
    "* Often and interchangebly, the bitwise inner prodcut is also called \"binary\" inner product, or also bitwise (or binary) \"dot\" product.\n",
    "* The paper does not mention it, but since the ancilla register is constituted by only one qubit, the bitwise inner product has to be modulo 2. Indeed, that bitwise inner product should be written as $(r \\cdot x) \\mod 2$ (as written in some Classiq documentation).\n",
    "  Thus the sum in the bitwise inner product, over the bit digits, should be modulo 2. Or, equivalently, it should be the result of a sequence of $\\oplus$ (addition modulo 2, or XOR) operations (i.e. the sum of the bit products, $p_0$, $p_1$, $p_2$, $\\dots$ should be $((p_0 \\oplus p_1) \\oplus p_2) \\oplus$ $\\dots$ and so on).\n",
    "\n",
    "#### Let's examine how to implement the step 7b\n",
    "\n",
    "**Before the step 7b**, the state of the circuit is given by the superposition in the $x$ register\n",
    "$$ (|x_0\\rangle + | x_1\\rangle)_x ,\n",
    "\\tag{3}\n",
    "$$\n",
    "(we have already discarded the $y$ register).\n",
    "\n",
    "We add an ancilla register $b$ constituted by only one qubit, so the state of the circuit is\n",
    "$$ | 0 \\rangle (|x_0\\rangle + | x_1\\rangle)_x .\n",
    "\\tag{4}\n",
    "$$\n",
    "\n",
    "So we need to compute the bitwise inner product between $x$ and $r$ and store it in the ancilla qubit.\n",
    "\n",
    "Note that since state of the $x$ register is in superosition between the states $|x_0\\rangle$ and $| x_1\\rangle$, if the unitary operation of computation of the prodcut is controlled by the state of the register $x$, automatically we obtain the desired state (Eq. 1).\n",
    "\n",
    "The bitwise inner product $(r\\cdot x) \\ \\textrm{mod} \\, 2$ is the defined as the sum of the product beteween respective bits of $r$ and $x$:\n",
    "$$\n",
    "(r \\cdot x) \\ \\textrm{mod} \\, 2 = \\sum_{i=0}^{M} r_i x_i \\ \\textrm{mod} \\, 2\n",
    "$$\n",
    "where $M$ is the size of the bit strings $r$ and $x$ (by protocol contruction $r$ is chosen to be the same size of $x$) and $r_i,x_i \\in \\{0,1\\}$ are the bit values in the strings.\n",
    "\n",
    "Each bit product $r_i x_i $ is $1$ only if both $r_i$ and $x_i$ are $1$ ($r_i =x_i =1$), and $0$ in the other three cases. So to implement each bit product $r_i x_i $ we can use a simple CNOT controlled by $x_i$ when $r_i = 1$. So the CNOTs are applied in the circuit only to the qubits $\\{i\\}$ for wich $r_i$ is equal to $1$.\n",
    "\n",
    "The modulo 2 sum is automatic, since every CNOT negates the current state of ancilla qubit. So the first CNOT produces 1, the second negates 1, so produces 0, i.e. has performed the sum $1+1$ modulo 2, and so on."
   ]
  },
  {
   "cell_type": "markdown",
   "id": "0ef0a671-fec1-4e2f-9e08-5926f09a7250",
   "metadata": {},
   "source": [
    "#### Implemenation of the step 6b (for Cirq)"
   ]
  },
  {
   "cell_type": "code",
   "execution_count": 1,
   "id": "b729d4a2-4502-4ce0-a9fe-3980922f8a65",
   "metadata": {},
   "outputs": [],
   "source": [
    "from random import randrange"
   ]
  },
  {
   "cell_type": "markdown",
   "id": "702880d8-c81c-44a6-a6bb-dc9b47217482",
   "metadata": {},
   "source": [
    "Let's choose randomly a bit string (a list of 0 and 1) for $r$."
   ]
  },
  {
   "cell_type": "code",
   "execution_count": 2,
   "id": "02c96848-aacd-4fa7-a7e3-58ebe6a827b2",
   "metadata": {},
   "outputs": [
    {
     "name": "stdout",
     "output_type": "stream",
     "text": [
      "[1, 1, 1, 0, 0]\n"
     ]
    }
   ],
   "source": [
    "m=5                            # it is just an example\n",
    "r = [randrange(0,2) for i in range(m)]\n",
    "print(r)"
   ]
  },
  {
   "cell_type": "markdown",
   "id": "bfaf0301-4173-4b55-b2b0-5b041c6edb3d",
   "metadata": {},
   "source": [
    "#### Implemenation of the step 7b using Cirq\n",
    "\n",
    "It is a basic implementation, just to illustrate the circuit logic"
   ]
  },
  {
   "cell_type": "code",
   "execution_count": null,
   "id": "f1df7b92-78c0-44f6-93a7-9604612687d5",
   "metadata": {},
   "outputs": [],
   "source": [
    "# note: in this moment the code does not work, however now it is not relevant\n",
    "import cirq\n",
    "circuit = cirq.Circuit()\n",
    "q_x = cirq.LineQubit.range(m) # qubits of x register\n",
    "q_b = cirq.LineQubit.range(1) # ancilla qubit b \n",
    "# I append the CNOT to the circuit conditioned by the value of r_i (r_i = 1)\n",
    "for i in range(len(r)):\n",
    "    if r[i] == 1:\n",
    "        circuit.append(cirq.CNOT(q_x[i], q_b))"
   ]
  },
  {
   "cell_type": "markdown",
   "id": "539cb3da-86e1-410b-ab3a-20aa21f0a109",
   "metadata": {},
   "source": [
    "#### Implemenation of the step 7b using Classiq Python SDK"
   ]
  },
  {
   "cell_type": "markdown",
   "id": "a90f900e-5c93-4bad-a532-58d0e7421c86",
   "metadata": {},
   "source": [
    "For the implementation to Classiq SDK we can exploit the high level representation of Quantum Numbers and functions like `repeat` and the `if_`.\n",
    "\n",
    "Here the `if_` function is used to make a classical condition on the application of the CNOTS. The condition is made on $r_i$.\n",
    "\n",
    "With Classiq, we cannot define $r$ as bit string of 0 and 1, so we define it as integer and extract $r_i$ from it through the arithmetic expression $\\lfloor r/2^i \\rfloor\\, \\textrm{mod} \\, 2$."
   ]
  },
  {
   "cell_type": "code",
   "execution_count": 7,
   "id": "7ac9976a-2a93-4739-b8be-d0785e8401b5",
   "metadata": {},
   "outputs": [],
   "source": [
    "from classiq import *\n",
    "from classiq.qmod.symbolic import floor\n",
    "@qfunc\n",
    "def bitwise_inner_product_mod2(r: CInt, x: QArray, b: QBit):\n",
    "    repeat(\n",
    "        x.len,\n",
    "        lambda i:\n",
    "            if_(\n",
    "                floor(r / 2**i) % 2 == 1,\n",
    "                        # it means r_i == 1, where r_0 is the most sigificant digit,\n",
    "                        # and r_{x.len-1} is the least signifcant digit\n",
    "                lambda: CX(x[i], b)\n",
    "                # I am not sure that it is needed to insert here also \"then_= IDENTTITY(b)\"\n",
    "                # in some examples it is not present, in others it's present\n",
    "            )\n",
    "    )\n",
    "# Note: the function if_ has arguments: \"condtion\", \"then\", \"else_\" (optional)\n",
    "# \"then\" and \"else_\" are callable function (lamdda func. or previous defined func.)"
   ]
  },
  {
   "cell_type": "markdown",
   "id": "b3f80fee-ff2d-405e-bab7-8acbd9e344df",
   "metadata": {},
   "source": [
    "#### Implemenation of the step 8b using Classiq Python SDK"
   ]
  },
  {
   "cell_type": "markdown",
   "id": "4b9d512b-cb6e-4d9d-a326-98d302988ed8",
   "metadata": {},
   "source": [
    "The step 8b is the measurement of $x$ register in Hadamard basis, so in Classiq it's just application the **Hadamard transform**.\n",
    "\n",
    "In Classiq the measrument gates are not present. The measurement is made automatically when the quantum program is executed with on \"normal\" simulator (not the statevector simulator) or on the real quantum hardware. \n",
    "\n",
    "In Classiq the is the builtin quantum function for the Hadamard transform `hadamard_transform`, that is simply the application of an Hadamard gate to each qubit of the qubit array passed as input to the function. "
   ]
  },
  {
   "cell_type": "markdown",
   "id": "6e844c59-f73b-40f4-90f3-e91edb50e422",
   "metadata": {},
   "source": [
    "#### Testing the function of step 7b"
   ]
  },
  {
   "cell_type": "markdown",
   "id": "11f1c1c5-f4ad-4cd3-a241-c7d495d00860",
   "metadata": {},
   "source": [
    "The protocol requires that in the step 8b we measure the $x$ register of the state obtained from the step 7b in the Hadamard basis, but before that we neeed to test the step 7b, so will measure the ancilla qubit $b$ to check if the bitwise inner product modulo 2 was actually computed.\n",
    "\n",
    "In order to test the function `bitwise_inner_product_mod2` we prepare the $x$ register in a state $|x\\rangle$.\n",
    "\n",
    "For test purpose we randomly chose $x$ as unsigned integer. The number has to be the certain size in terms of bits, so we choose a bit size $m$ and choose $x$ in the range $[0,2^{m-1}]$.\n",
    "\n",
    "The bitstring $r$ has to be the same size bitstring corresponding to $x$, we also randomly choose $r$ as unsigned integer number in the range $[0,2^{m-1}]$.\n",
    "\n",
    "In the below cell, we define also a classical function to compute the the inner product between $r$ and $x$ to check the correctness of the result."
   ]
  },
  {
   "cell_type": "code",
   "execution_count": 12,
   "id": "2347285a-85dc-460a-ba49-19d9e3839083",
   "metadata": {},
   "outputs": [
    {
     "name": "stdout",
     "output_type": "stream",
     "text": [
      "cx: 4\n",
      "r: 13\n"
     ]
    }
   ],
   "source": [
    "import math\n",
    "\n",
    "m=4                    # it is just an example\n",
    "cx = randrange(0,2**m) # classical value of x; 2**m is excluded\n",
    "print(\"cx:\",cx)\n",
    "\n",
    "r = randrange(0,2**m)\n",
    "print(\"r:\",r)\n",
    "\n",
    "# classical function of bitwise inner product modulo 2\n",
    "def classical_bitwise_inner_product_mod2(m,x,r):\n",
    "    inner_prod=0\n",
    "    for i in range(m):\n",
    "        r_i = math.floor(r / 2**i) % 2\n",
    "        x_i = math.floor(x / 2**i) % 2\n",
    "        inner_prod += r_i * x_i\n",
    "    inner_prod = inner_prod % 2\n",
    "    return inner_prod\n",
    "\n",
    "@qfunc\n",
    "def main(b: Output[QBit]): # we set as output argument only the ancilla qbit b, since we want measure only this for testing\n",
    "\n",
    "    allocate(1,b)\n",
    "    x = QNum('x')\n",
    "    allocate_num(m,False,0,x) # if I use prepare_it (instead of inplace_prepare_int) allocate_num is not needed\n",
    "    inplace_prepare_int(cx,x)\n",
    "    \n",
    "    bitwise_inner_product_mod2(r, x, b)\n",
    "\n",
    "qmod = create_model(main)\n",
    "\n",
    "quantum_program = synthesize(qmod)"
   ]
  },
  {
   "cell_type": "code",
   "execution_count": 13,
   "id": "1bcd437f-857d-4f61-8766-1ee81de558e9",
   "metadata": {},
   "outputs": [],
   "source": [
    "#show(quantum_program)"
   ]
  },
  {
   "cell_type": "code",
   "execution_count": 14,
   "id": "93c22ab0-26e5-47af-a48e-16a58d2e7b95",
   "metadata": {},
   "outputs": [
    {
     "name": "stdout",
     "output_type": "stream",
     "text": [
      "The job on the provider Classiq on the backend simulator with 2048 shots is QUEUED can be accessed in the IDE with this URL: https://platform.classiq.io/jobs/7f4d7ca3-170e-4099-a9ab-43fb17adbd23\n"
     ]
    }
   ],
   "source": [
    "job = execute(quantum_program)\n",
    "print(\n",
    "    f\"The job on the provider {job.provider} on the backend {job.backend_name} with {job.num_shots} shots is {job.status} can be accessed in the IDE with this URL: {job.ide_url}\"\n",
    ")"
   ]
  },
  {
   "cell_type": "code",
   "execution_count": 18,
   "id": "29fb7d2b-2db3-48e7-a121-472231f99887",
   "metadata": {},
   "outputs": [
    {
     "name": "stdout",
     "output_type": "stream",
     "text": [
      "m = 4 , cx = 4 , r = 13\n",
      "Quantum result: [{'b': 1.0}: 2048]\n",
      "Classical result: 1\n"
     ]
    }
   ],
   "source": [
    "print(\"m =\",m,\", cx =\",cx,\", r =\",r)\n",
    "\n",
    "results = job.result()[0].value\n",
    "print(\"Quantum result:\",results.parsed_counts)\n",
    "\n",
    "prod = classical_bitwise_inner_product_mod2(m,cx,r)\n",
    "print(\"Classical result:\",prod)\n"
   ]
  },
  {
   "cell_type": "code",
   "execution_count": null,
   "id": "1b54a2b1-797e-4e8e-a772-a71ff32ad0f3",
   "metadata": {},
   "outputs": [],
   "source": []
  }
 ],
 "metadata": {
  "kernelspec": {
   "display_name": "Python 3 (ipykernel)",
   "language": "python",
   "name": "python3"
  },
  "language_info": {
   "codemirror_mode": {
    "name": "ipython",
    "version": 3
   },
   "file_extension": ".py",
   "mimetype": "text/x-python",
   "name": "python",
   "nbconvert_exporter": "python",
   "pygments_lexer": "ipython3",
   "version": "3.11.9"
  }
 },
 "nbformat": 4,
 "nbformat_minor": 5
}
